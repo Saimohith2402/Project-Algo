{
 "cells": [
  {
   "cell_type": "code",
   "execution_count": 1,
   "id": "774bb14b-ace8-412c-a8b5-deef7e15f107",
   "metadata": {},
   "outputs": [
    {
     "name": "stdout",
     "output_type": "stream",
     "text": [
      "Requirement already satisfied: smartapi-python in c:\\users\\sai mohith\\onedrive\\documents\\desktop\\project-algo\\options-trading-env\\lib\\site-packages (1.5.5)\n",
      "Requirement already satisfied: requests>=2.18.4 in c:\\users\\sai mohith\\onedrive\\documents\\desktop\\project-algo\\options-trading-env\\lib\\site-packages (from smartapi-python) (2.31.0)\n",
      "Requirement already satisfied: six>=1.11.0 in c:\\users\\sai mohith\\onedrive\\documents\\desktop\\project-algo\\options-trading-env\\lib\\site-packages (from smartapi-python) (1.16.0)\n",
      "Requirement already satisfied: python-dateutil>=2.6.1 in c:\\users\\sai mohith\\onedrive\\documents\\desktop\\project-algo\\options-trading-env\\lib\\site-packages (from smartapi-python) (2.8.2)\n",
      "Requirement already satisfied: charset-normalizer<4,>=2 in c:\\users\\sai mohith\\onedrive\\documents\\desktop\\project-algo\\options-trading-env\\lib\\site-packages (from requests>=2.18.4->smartapi-python) (3.1.0)\n",
      "Requirement already satisfied: idna<4,>=2.5 in c:\\users\\sai mohith\\onedrive\\documents\\desktop\\project-algo\\options-trading-env\\lib\\site-packages (from requests>=2.18.4->smartapi-python) (3.4)\n",
      "Requirement already satisfied: urllib3<3,>=1.21.1 in c:\\users\\sai mohith\\onedrive\\documents\\desktop\\project-algo\\options-trading-env\\lib\\site-packages (from requests>=2.18.4->smartapi-python) (2.0.3)\n",
      "Requirement already satisfied: certifi>=2017.4.17 in c:\\users\\sai mohith\\onedrive\\documents\\desktop\\project-algo\\options-trading-env\\lib\\site-packages (from requests>=2.18.4->smartapi-python) (2023.5.7)\n"
     ]
    }
   ],
   "source": [
    "!pip install smartapi-python"
   ]
  },
  {
   "cell_type": "code",
   "execution_count": 2,
   "id": "e99b6af3-a3d9-4ae7-a099-03ba27c286fb",
   "metadata": {},
   "outputs": [
    {
     "name": "stdout",
     "output_type": "stream",
     "text": [
      "Requirement already satisfied: logzero in c:\\users\\sai mohith\\onedrive\\documents\\desktop\\project-algo\\options-trading-env\\lib\\site-packages (1.7.0)\n",
      "Requirement already satisfied: colorama in c:\\users\\sai mohith\\onedrive\\documents\\desktop\\project-algo\\options-trading-env\\lib\\site-packages (from logzero) (0.4.6)\n"
     ]
    }
   ],
   "source": [
    "!pip install logzero"
   ]
  },
  {
   "cell_type": "code",
   "execution_count": 4,
   "id": "1cb5927c-8aea-4ddb-8cc3-3043f85953f2",
   "metadata": {},
   "outputs": [],
   "source": [
    "from SmartApi import SmartConnect\n",
    "import pyotp"
   ]
  },
  {
   "cell_type": "code",
   "execution_count": 5,
   "id": "298953b1-c7a0-4eb4-aca5-30a7fc0281be",
   "metadata": {},
   "outputs": [],
   "source": [
    "API_KEY = \"OdhXTOhX\"\n",
    "CLIENT_ID = \"AAAJ907568\"\n",
    "PASSWORD = \"2701\"\n",
    "TOTP_SECRET = \"CWIE2BLPLMS3SO6GCSHDVEZF74\""
   ]
  },
  {
   "cell_type": "code",
   "execution_count": 6,
   "id": "933c3de0-6183-4b5b-a95a-4b9522f464dd",
   "metadata": {},
   "outputs": [],
   "source": [
    "def login():\n",
    "    obj = SmartConnect(api_key=API_KEY)\n",
    "    totp = pyotp.TOTP(TOTP_SECRET).now()\n",
    "    session_data = obj.generateSession(CLIENT_ID, PASSWORD, totp)\n",
    "    return obj, session_data[\"data\"][\"jwtToken\"]"
   ]
  },
  {
   "cell_type": "code",
   "execution_count": null,
   "id": "3275ec10-db5a-4caf-822c-f70913bd69f3",
   "metadata": {},
   "outputs": [],
   "source": []
  }
 ],
 "metadata": {
  "kernelspec": {
   "display_name": "Python 3 (ipykernel)",
   "language": "python",
   "name": "python3"
  },
  "language_info": {
   "codemirror_mode": {
    "name": "ipython",
    "version": 3
   },
   "file_extension": ".py",
   "mimetype": "text/x-python",
   "name": "python",
   "nbconvert_exporter": "python",
   "pygments_lexer": "ipython3",
   "version": "3.11.6"
  }
 },
 "nbformat": 4,
 "nbformat_minor": 5
}
